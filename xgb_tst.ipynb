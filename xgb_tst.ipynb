{
 "cells": [
  {
   "cell_type": "code",
   "execution_count": 1,
   "id": "5d6c9aa3-7550-4255-84a9-48cccedaa1a4",
   "metadata": {},
   "outputs": [],
   "source": [
    "import pandas as pd\n",
    "import os"
   ]
  },
  {
   "cell_type": "markdown",
   "id": "444cbac3-32d5-4e4d-aa7c-3561338c2489",
   "metadata": {},
   "source": [
    "## Data"
   ]
  },
  {
   "cell_type": "code",
   "execution_count": 2,
   "id": "10785dc3-f7a4-4d72-b247-d0a541819752",
   "metadata": {},
   "outputs": [],
   "source": [
    "file_path = \"./AAPL_daily2.csv\"\n",
    "data = pd.read_csv(file_path, index_col=0)"
   ]
  },
  {
   "cell_type": "code",
   "execution_count": 3,
   "id": "9996dff6-a661-4f6e-9f5b-3f598381babc",
   "metadata": {},
   "outputs": [
    {
     "name": "stdout",
     "output_type": "stream",
     "text": [
      "['Adj_Close', 'Close', 'High', 'Low', 'Open', 'Volume']\n"
     ]
    }
   ],
   "source": [
    "x = data.iloc[:,0:6]\n",
    "y = data.iloc[:,7]\n",
    "\n",
    "features = ['Adj_Close', 'Close', 'High', 'Low', 'Open', 'Volume']\n",
    "print(features)\n",
    "\n",
    "x.columns = features"
   ]
  },
  {
   "cell_type": "code",
   "execution_count": 4,
   "id": "09823dea-9b80-4994-81fb-7948af3c9d56",
   "metadata": {},
   "outputs": [],
   "source": [
    "x_train,x_test = x.iloc[:5000,:], x.iloc[5000:,:]\n",
    "y_train,y_test = y[:5000],y[5000:]"
   ]
  },
  {
   "cell_type": "markdown",
   "id": "98edf86b-b2f9-4b80-84a6-6316ea1c4996",
   "metadata": {},
   "source": [
    "## Data 2\n"
   ]
  },
  {
   "cell_type": "code",
   "execution_count": 17,
   "id": "637bfe34-30f8-49c8-93df-3c0439396921",
   "metadata": {},
   "outputs": [],
   "source": [
    "file_path = \"../lleaves_xgboost/allstate/train_set.csv\""
   ]
  },
  {
   "cell_type": "code",
   "execution_count": 42,
   "id": "b82ee603-de31-4ced-9f46-d14126d023ea",
   "metadata": {},
   "outputs": [
    {
     "name": "stderr",
     "output_type": "stream",
     "text": [
      "/tmp/ipykernel_1126992/188484595.py:1: DtypeWarning: Columns (20) have mixed types. Specify dtype option on import or set low_memory=False.\n",
      "  dataa = pd.read_csv(file_path, index_col = 0, nrows=6000000)\n"
     ]
    }
   ],
   "source": [
    "dataa = pd.read_csv(file_path, index_col = 0, nrows=6000000)"
   ]
  },
  {
   "cell_type": "code",
   "execution_count": 43,
   "id": "739af653-b745-40a7-8879-90833863a293",
   "metadata": {},
   "outputs": [
    {
     "data": {
      "text/html": [
       "<div>\n",
       "<style scoped>\n",
       "    .dataframe tbody tr th:only-of-type {\n",
       "        vertical-align: middle;\n",
       "    }\n",
       "\n",
       "    .dataframe tbody tr th {\n",
       "        vertical-align: top;\n",
       "    }\n",
       "\n",
       "    .dataframe thead th {\n",
       "        text-align: right;\n",
       "    }\n",
       "</style>\n",
       "<table border=\"1\" class=\"dataframe\">\n",
       "  <thead>\n",
       "    <tr style=\"text-align: right;\">\n",
       "      <th></th>\n",
       "      <th>Household_ID</th>\n",
       "      <th>Vehicle</th>\n",
       "      <th>Calendar_Year</th>\n",
       "      <th>Model_Year</th>\n",
       "      <th>Blind_Make</th>\n",
       "      <th>Blind_Model</th>\n",
       "      <th>Blind_Submodel</th>\n",
       "      <th>Cat1</th>\n",
       "      <th>Cat2</th>\n",
       "      <th>Cat3</th>\n",
       "      <th>...</th>\n",
       "      <th>Var5</th>\n",
       "      <th>Var6</th>\n",
       "      <th>Var7</th>\n",
       "      <th>Var8</th>\n",
       "      <th>NVCat</th>\n",
       "      <th>NVVar1</th>\n",
       "      <th>NVVar2</th>\n",
       "      <th>NVVar3</th>\n",
       "      <th>NVVar4</th>\n",
       "      <th>Claim_Amount</th>\n",
       "    </tr>\n",
       "    <tr>\n",
       "      <th>Row_ID</th>\n",
       "      <th></th>\n",
       "      <th></th>\n",
       "      <th></th>\n",
       "      <th></th>\n",
       "      <th></th>\n",
       "      <th></th>\n",
       "      <th></th>\n",
       "      <th></th>\n",
       "      <th></th>\n",
       "      <th></th>\n",
       "      <th></th>\n",
       "      <th></th>\n",
       "      <th></th>\n",
       "      <th></th>\n",
       "      <th></th>\n",
       "      <th></th>\n",
       "      <th></th>\n",
       "      <th></th>\n",
       "      <th></th>\n",
       "      <th></th>\n",
       "      <th></th>\n",
       "    </tr>\n",
       "  </thead>\n",
       "  <tbody>\n",
       "    <tr>\n",
       "      <th>1</th>\n",
       "      <td>1</td>\n",
       "      <td>3</td>\n",
       "      <td>2005</td>\n",
       "      <td>2005</td>\n",
       "      <td>K</td>\n",
       "      <td>K.78</td>\n",
       "      <td>K.78.2</td>\n",
       "      <td>D</td>\n",
       "      <td>C</td>\n",
       "      <td>F</td>\n",
       "      <td>...</td>\n",
       "      <td>1.008912</td>\n",
       "      <td>0.261040</td>\n",
       "      <td>0.907793</td>\n",
       "      <td>-0.077998</td>\n",
       "      <td>M</td>\n",
       "      <td>-0.23153</td>\n",
       "      <td>-0.266117</td>\n",
       "      <td>-0.272337</td>\n",
       "      <td>-0.251419</td>\n",
       "      <td>0.0</td>\n",
       "    </tr>\n",
       "    <tr>\n",
       "      <th>2</th>\n",
       "      <td>2</td>\n",
       "      <td>2</td>\n",
       "      <td>2005</td>\n",
       "      <td>2003</td>\n",
       "      <td>Q</td>\n",
       "      <td>Q.22</td>\n",
       "      <td>Q.22.3</td>\n",
       "      <td>B</td>\n",
       "      <td>C</td>\n",
       "      <td>A</td>\n",
       "      <td>...</td>\n",
       "      <td>1.240851</td>\n",
       "      <td>0.432987</td>\n",
       "      <td>-0.726459</td>\n",
       "      <td>0.204785</td>\n",
       "      <td>O</td>\n",
       "      <td>-0.23153</td>\n",
       "      <td>-0.266117</td>\n",
       "      <td>-0.272337</td>\n",
       "      <td>-0.251419</td>\n",
       "      <td>0.0</td>\n",
       "    </tr>\n",
       "    <tr>\n",
       "      <th>3</th>\n",
       "      <td>3</td>\n",
       "      <td>1</td>\n",
       "      <td>2005</td>\n",
       "      <td>1998</td>\n",
       "      <td>AR</td>\n",
       "      <td>AR.41</td>\n",
       "      <td>AR.41.1</td>\n",
       "      <td>B</td>\n",
       "      <td>?</td>\n",
       "      <td>A</td>\n",
       "      <td>...</td>\n",
       "      <td>-0.971487</td>\n",
       "      <td>-1.405797</td>\n",
       "      <td>-0.837048</td>\n",
       "      <td>-1.176858</td>\n",
       "      <td>F</td>\n",
       "      <td>-0.23153</td>\n",
       "      <td>-0.266117</td>\n",
       "      <td>-0.272337</td>\n",
       "      <td>-0.251419</td>\n",
       "      <td>0.0</td>\n",
       "    </tr>\n",
       "    <tr>\n",
       "      <th>4</th>\n",
       "      <td>3</td>\n",
       "      <td>1</td>\n",
       "      <td>2006</td>\n",
       "      <td>1998</td>\n",
       "      <td>AR</td>\n",
       "      <td>AR.41</td>\n",
       "      <td>AR.41.1</td>\n",
       "      <td>B</td>\n",
       "      <td>?</td>\n",
       "      <td>A</td>\n",
       "      <td>...</td>\n",
       "      <td>-0.971487</td>\n",
       "      <td>-1.405797</td>\n",
       "      <td>-0.837048</td>\n",
       "      <td>-1.176858</td>\n",
       "      <td>F</td>\n",
       "      <td>-0.23153</td>\n",
       "      <td>-0.266117</td>\n",
       "      <td>-0.272337</td>\n",
       "      <td>-0.251419</td>\n",
       "      <td>0.0</td>\n",
       "    </tr>\n",
       "    <tr>\n",
       "      <th>5</th>\n",
       "      <td>3</td>\n",
       "      <td>2</td>\n",
       "      <td>2005</td>\n",
       "      <td>2001</td>\n",
       "      <td>D</td>\n",
       "      <td>D.20</td>\n",
       "      <td>D.20.0</td>\n",
       "      <td>J</td>\n",
       "      <td>C</td>\n",
       "      <td>B</td>\n",
       "      <td>...</td>\n",
       "      <td>0.812656</td>\n",
       "      <td>2.112691</td>\n",
       "      <td>1.534462</td>\n",
       "      <td>2.347260</td>\n",
       "      <td>F</td>\n",
       "      <td>-0.23153</td>\n",
       "      <td>-0.266117</td>\n",
       "      <td>-0.272337</td>\n",
       "      <td>-0.251419</td>\n",
       "      <td>0.0</td>\n",
       "    </tr>\n",
       "    <tr>\n",
       "      <th>...</th>\n",
       "      <td>...</td>\n",
       "      <td>...</td>\n",
       "      <td>...</td>\n",
       "      <td>...</td>\n",
       "      <td>...</td>\n",
       "      <td>...</td>\n",
       "      <td>...</td>\n",
       "      <td>...</td>\n",
       "      <td>...</td>\n",
       "      <td>...</td>\n",
       "      <td>...</td>\n",
       "      <td>...</td>\n",
       "      <td>...</td>\n",
       "      <td>...</td>\n",
       "      <td>...</td>\n",
       "      <td>...</td>\n",
       "      <td>...</td>\n",
       "      <td>...</td>\n",
       "      <td>...</td>\n",
       "      <td>...</td>\n",
       "      <td>...</td>\n",
       "    </tr>\n",
       "    <tr>\n",
       "      <th>5999996</th>\n",
       "      <td>4056658</td>\n",
       "      <td>4</td>\n",
       "      <td>2007</td>\n",
       "      <td>2004</td>\n",
       "      <td>BW</td>\n",
       "      <td>BW.42</td>\n",
       "      <td>BW.42.0</td>\n",
       "      <td>I</td>\n",
       "      <td>C</td>\n",
       "      <td>F</td>\n",
       "      <td>...</td>\n",
       "      <td>1.811776</td>\n",
       "      <td>2.164158</td>\n",
       "      <td>1.337860</td>\n",
       "      <td>1.166356</td>\n",
       "      <td>L</td>\n",
       "      <td>-0.23153</td>\n",
       "      <td>-0.266117</td>\n",
       "      <td>-0.272337</td>\n",
       "      <td>-0.251419</td>\n",
       "      <td>0.0</td>\n",
       "    </tr>\n",
       "    <tr>\n",
       "      <th>5999997</th>\n",
       "      <td>4056660</td>\n",
       "      <td>1</td>\n",
       "      <td>2005</td>\n",
       "      <td>2004</td>\n",
       "      <td>AU</td>\n",
       "      <td>AU.68</td>\n",
       "      <td>AU.68.0</td>\n",
       "      <td>D</td>\n",
       "      <td>A</td>\n",
       "      <td>F</td>\n",
       "      <td>...</td>\n",
       "      <td>1.966402</td>\n",
       "      <td>1.436598</td>\n",
       "      <td>1.522174</td>\n",
       "      <td>0.311444</td>\n",
       "      <td>M</td>\n",
       "      <td>3.19779</td>\n",
       "      <td>-0.266117</td>\n",
       "      <td>-0.272337</td>\n",
       "      <td>3.068692</td>\n",
       "      <td>0.0</td>\n",
       "    </tr>\n",
       "    <tr>\n",
       "      <th>5999998</th>\n",
       "      <td>4056660</td>\n",
       "      <td>1</td>\n",
       "      <td>2006</td>\n",
       "      <td>2004</td>\n",
       "      <td>AU</td>\n",
       "      <td>AU.68</td>\n",
       "      <td>AU.68.0</td>\n",
       "      <td>D</td>\n",
       "      <td>A</td>\n",
       "      <td>F</td>\n",
       "      <td>...</td>\n",
       "      <td>1.966402</td>\n",
       "      <td>1.436598</td>\n",
       "      <td>1.522174</td>\n",
       "      <td>0.311444</td>\n",
       "      <td>M</td>\n",
       "      <td>3.19779</td>\n",
       "      <td>-0.266117</td>\n",
       "      <td>-0.272337</td>\n",
       "      <td>3.068692</td>\n",
       "      <td>0.0</td>\n",
       "    </tr>\n",
       "    <tr>\n",
       "      <th>5999999</th>\n",
       "      <td>4056660</td>\n",
       "      <td>1</td>\n",
       "      <td>2007</td>\n",
       "      <td>2004</td>\n",
       "      <td>AU</td>\n",
       "      <td>AU.68</td>\n",
       "      <td>AU.68.0</td>\n",
       "      <td>D</td>\n",
       "      <td>A</td>\n",
       "      <td>F</td>\n",
       "      <td>...</td>\n",
       "      <td>1.966402</td>\n",
       "      <td>1.436598</td>\n",
       "      <td>1.522174</td>\n",
       "      <td>0.311444</td>\n",
       "      <td>M</td>\n",
       "      <td>3.19779</td>\n",
       "      <td>-0.266117</td>\n",
       "      <td>-0.272337</td>\n",
       "      <td>3.068692</td>\n",
       "      <td>0.0</td>\n",
       "    </tr>\n",
       "    <tr>\n",
       "      <th>6000000</th>\n",
       "      <td>4056660</td>\n",
       "      <td>3</td>\n",
       "      <td>2007</td>\n",
       "      <td>1991</td>\n",
       "      <td>AU</td>\n",
       "      <td>AU.49</td>\n",
       "      <td>AU.49.0</td>\n",
       "      <td>D</td>\n",
       "      <td>?</td>\n",
       "      <td>C</td>\n",
       "      <td>...</td>\n",
       "      <td>-0.983381</td>\n",
       "      <td>-0.984702</td>\n",
       "      <td>-0.087503</td>\n",
       "      <td>-1.338213</td>\n",
       "      <td>M</td>\n",
       "      <td>3.19779</td>\n",
       "      <td>-0.266117</td>\n",
       "      <td>-0.272337</td>\n",
       "      <td>3.068692</td>\n",
       "      <td>0.0</td>\n",
       "    </tr>\n",
       "  </tbody>\n",
       "</table>\n",
       "<p>6000000 rows × 34 columns</p>\n",
       "</div>"
      ],
      "text/plain": [
       "         Household_ID  Vehicle  Calendar_Year  Model_Year Blind_Make  \\\n",
       "Row_ID                                                                 \n",
       "1                   1        3           2005        2005          K   \n",
       "2                   2        2           2005        2003          Q   \n",
       "3                   3        1           2005        1998         AR   \n",
       "4                   3        1           2006        1998         AR   \n",
       "5                   3        2           2005        2001          D   \n",
       "...               ...      ...            ...         ...        ...   \n",
       "5999996       4056658        4           2007        2004         BW   \n",
       "5999997       4056660        1           2005        2004         AU   \n",
       "5999998       4056660        1           2006        2004         AU   \n",
       "5999999       4056660        1           2007        2004         AU   \n",
       "6000000       4056660        3           2007        1991         AU   \n",
       "\n",
       "        Blind_Model Blind_Submodel Cat1 Cat2 Cat3  ...      Var5      Var6  \\\n",
       "Row_ID                                             ...                       \n",
       "1              K.78         K.78.2    D    C    F  ...  1.008912  0.261040   \n",
       "2              Q.22         Q.22.3    B    C    A  ...  1.240851  0.432987   \n",
       "3             AR.41        AR.41.1    B    ?    A  ... -0.971487 -1.405797   \n",
       "4             AR.41        AR.41.1    B    ?    A  ... -0.971487 -1.405797   \n",
       "5              D.20         D.20.0    J    C    B  ...  0.812656  2.112691   \n",
       "...             ...            ...  ...  ...  ...  ...       ...       ...   \n",
       "5999996       BW.42        BW.42.0    I    C    F  ...  1.811776  2.164158   \n",
       "5999997       AU.68        AU.68.0    D    A    F  ...  1.966402  1.436598   \n",
       "5999998       AU.68        AU.68.0    D    A    F  ...  1.966402  1.436598   \n",
       "5999999       AU.68        AU.68.0    D    A    F  ...  1.966402  1.436598   \n",
       "6000000       AU.49        AU.49.0    D    ?    C  ... -0.983381 -0.984702   \n",
       "\n",
       "             Var7      Var8 NVCat   NVVar1    NVVar2    NVVar3    NVVar4  \\\n",
       "Row_ID                                                                     \n",
       "1        0.907793 -0.077998     M -0.23153 -0.266117 -0.272337 -0.251419   \n",
       "2       -0.726459  0.204785     O -0.23153 -0.266117 -0.272337 -0.251419   \n",
       "3       -0.837048 -1.176858     F -0.23153 -0.266117 -0.272337 -0.251419   \n",
       "4       -0.837048 -1.176858     F -0.23153 -0.266117 -0.272337 -0.251419   \n",
       "5        1.534462  2.347260     F -0.23153 -0.266117 -0.272337 -0.251419   \n",
       "...           ...       ...   ...      ...       ...       ...       ...   \n",
       "5999996  1.337860  1.166356     L -0.23153 -0.266117 -0.272337 -0.251419   \n",
       "5999997  1.522174  0.311444     M  3.19779 -0.266117 -0.272337  3.068692   \n",
       "5999998  1.522174  0.311444     M  3.19779 -0.266117 -0.272337  3.068692   \n",
       "5999999  1.522174  0.311444     M  3.19779 -0.266117 -0.272337  3.068692   \n",
       "6000000 -0.087503 -1.338213     M  3.19779 -0.266117 -0.272337  3.068692   \n",
       "\n",
       "        Claim_Amount  \n",
       "Row_ID                \n",
       "1                0.0  \n",
       "2                0.0  \n",
       "3                0.0  \n",
       "4                0.0  \n",
       "5                0.0  \n",
       "...              ...  \n",
       "5999996          0.0  \n",
       "5999997          0.0  \n",
       "5999998          0.0  \n",
       "5999999          0.0  \n",
       "6000000          0.0  \n",
       "\n",
       "[6000000 rows x 34 columns]"
      ]
     },
     "execution_count": 43,
     "metadata": {},
     "output_type": "execute_result"
    }
   ],
   "source": [
    "dataa"
   ]
  },
  {
   "cell_type": "code",
   "execution_count": 44,
   "id": "76f6e2ac-d071-4eff-9035-8e037da2a396",
   "metadata": {},
   "outputs": [],
   "source": [
    "col = []\n",
    "for i in dataa.columns:\n",
    "    if i[0] == 'V' :\n",
    "        col.append(i)"
   ]
  },
  {
   "cell_type": "code",
   "execution_count": 45,
   "id": "635bd535-7cc9-41e8-8425-11345b98ff98",
   "metadata": {},
   "outputs": [],
   "source": [
    "col = col[1:]"
   ]
  },
  {
   "cell_type": "code",
   "execution_count": 46,
   "id": "0cd94d37-8a84-4282-9173-d5bb35572cd8",
   "metadata": {},
   "outputs": [],
   "source": [
    "x = dataa[col]\n",
    "y = dataa['Claim_Amount']"
   ]
  },
  {
   "cell_type": "code",
   "execution_count": 47,
   "id": "57a5b58e-11a9-4040-845a-d6083cf224ad",
   "metadata": {},
   "outputs": [],
   "source": [
    "x_train,x_test = x.iloc[:100000,:], x.iloc[100000:,:]\n",
    "y_train,y_test = y[:100000],y[100000:]"
   ]
  },
  {
   "cell_type": "code",
   "execution_count": 48,
   "id": "fe9c254b-487e-477c-b423-c9ac8ac96070",
   "metadata": {},
   "outputs": [],
   "source": [
    "features= list(x.columns)"
   ]
  },
  {
   "cell_type": "code",
   "execution_count": 49,
   "id": "ccb4628b-c63c-4b64-b148-8f2902161fb8",
   "metadata": {},
   "outputs": [
    {
     "data": {
      "text/plain": [
       "['Var1', 'Var2', 'Var3', 'Var4', 'Var5', 'Var6', 'Var7', 'Var8']"
      ]
     },
     "execution_count": 49,
     "metadata": {},
     "output_type": "execute_result"
    }
   ],
   "source": [
    "features"
   ]
  },
  {
   "cell_type": "markdown",
   "id": "a032266e-77f2-4091-855a-849979ea2b52",
   "metadata": {},
   "source": [
    "## XGB model"
   ]
  },
  {
   "cell_type": "code",
   "execution_count": 64,
   "id": "1304be1c-624f-4e96-8589-5c1cff264595",
   "metadata": {
    "tags": []
   },
   "outputs": [
    {
     "data": {
      "text/html": [
       "<style>#sk-container-id-4 {color: black;background-color: white;}#sk-container-id-4 pre{padding: 0;}#sk-container-id-4 div.sk-toggleable {background-color: white;}#sk-container-id-4 label.sk-toggleable__label {cursor: pointer;display: block;width: 100%;margin-bottom: 0;padding: 0.3em;box-sizing: border-box;text-align: center;}#sk-container-id-4 label.sk-toggleable__label-arrow:before {content: \"▸\";float: left;margin-right: 0.25em;color: #696969;}#sk-container-id-4 label.sk-toggleable__label-arrow:hover:before {color: black;}#sk-container-id-4 div.sk-estimator:hover label.sk-toggleable__label-arrow:before {color: black;}#sk-container-id-4 div.sk-toggleable__content {max-height: 0;max-width: 0;overflow: hidden;text-align: left;background-color: #f0f8ff;}#sk-container-id-4 div.sk-toggleable__content pre {margin: 0.2em;color: black;border-radius: 0.25em;background-color: #f0f8ff;}#sk-container-id-4 input.sk-toggleable__control:checked~div.sk-toggleable__content {max-height: 200px;max-width: 100%;overflow: auto;}#sk-container-id-4 input.sk-toggleable__control:checked~label.sk-toggleable__label-arrow:before {content: \"▾\";}#sk-container-id-4 div.sk-estimator input.sk-toggleable__control:checked~label.sk-toggleable__label {background-color: #d4ebff;}#sk-container-id-4 div.sk-label input.sk-toggleable__control:checked~label.sk-toggleable__label {background-color: #d4ebff;}#sk-container-id-4 input.sk-hidden--visually {border: 0;clip: rect(1px 1px 1px 1px);clip: rect(1px, 1px, 1px, 1px);height: 1px;margin: -1px;overflow: hidden;padding: 0;position: absolute;width: 1px;}#sk-container-id-4 div.sk-estimator {font-family: monospace;background-color: #f0f8ff;border: 1px dotted black;border-radius: 0.25em;box-sizing: border-box;margin-bottom: 0.5em;}#sk-container-id-4 div.sk-estimator:hover {background-color: #d4ebff;}#sk-container-id-4 div.sk-parallel-item::after {content: \"\";width: 100%;border-bottom: 1px solid gray;flex-grow: 1;}#sk-container-id-4 div.sk-label:hover label.sk-toggleable__label {background-color: #d4ebff;}#sk-container-id-4 div.sk-serial::before {content: \"\";position: absolute;border-left: 1px solid gray;box-sizing: border-box;top: 0;bottom: 0;left: 50%;z-index: 0;}#sk-container-id-4 div.sk-serial {display: flex;flex-direction: column;align-items: center;background-color: white;padding-right: 0.2em;padding-left: 0.2em;position: relative;}#sk-container-id-4 div.sk-item {position: relative;z-index: 1;}#sk-container-id-4 div.sk-parallel {display: flex;align-items: stretch;justify-content: center;background-color: white;position: relative;}#sk-container-id-4 div.sk-item::before, #sk-container-id-4 div.sk-parallel-item::before {content: \"\";position: absolute;border-left: 1px solid gray;box-sizing: border-box;top: 0;bottom: 0;left: 50%;z-index: -1;}#sk-container-id-4 div.sk-parallel-item {display: flex;flex-direction: column;z-index: 1;position: relative;background-color: white;}#sk-container-id-4 div.sk-parallel-item:first-child::after {align-self: flex-end;width: 50%;}#sk-container-id-4 div.sk-parallel-item:last-child::after {align-self: flex-start;width: 50%;}#sk-container-id-4 div.sk-parallel-item:only-child::after {width: 0;}#sk-container-id-4 div.sk-dashed-wrapped {border: 1px dashed gray;margin: 0 0.4em 0.5em 0.4em;box-sizing: border-box;padding-bottom: 0.4em;background-color: white;}#sk-container-id-4 div.sk-label label {font-family: monospace;font-weight: bold;display: inline-block;line-height: 1.2em;}#sk-container-id-4 div.sk-label-container {text-align: center;}#sk-container-id-4 div.sk-container {/* jupyter's `normalize.less` sets `[hidden] { display: none; }` but bootstrap.min.css set `[hidden] { display: none !important; }` so we also need the `!important` here to be able to override the default hidden behavior on the sphinx rendered scikit-learn.org. See: https://github.com/scikit-learn/scikit-learn/issues/21755 */display: inline-block !important;position: relative;}#sk-container-id-4 div.sk-text-repr-fallback {display: none;}</style><div id=\"sk-container-id-4\" class=\"sk-top-container\"><div class=\"sk-text-repr-fallback\"><pre>XGBRegressor(base_score=0.5, booster=&#x27;gbtree&#x27;, colsample_bylevel=1,\n",
       "             colsample_bynode=1, colsample_bytree=1, enable_categorical=False,\n",
       "             gamma=0, gpu_id=-1, importance_type=None,\n",
       "             interaction_constraints=&#x27;&#x27;, learning_rate=0.300000012,\n",
       "             max_delta_step=0, max_depth=6, min_child_weight=1, missing=nan,\n",
       "             monotone_constraints=&#x27;()&#x27;, n_estimators=100, n_jobs=8,\n",
       "             num_parallel_tree=1, predictor=&#x27;auto&#x27;, random_state=0, reg_alpha=0,\n",
       "             reg_lambda=1, scale_pos_weight=1, subsample=1, tree_method=&#x27;exact&#x27;,\n",
       "             validate_parameters=1, verbosity=None)</pre><b>In a Jupyter environment, please rerun this cell to show the HTML representation or trust the notebook. <br />On GitHub, the HTML representation is unable to render, please try loading this page with nbviewer.org.</b></div><div class=\"sk-container\" hidden><div class=\"sk-item\"><div class=\"sk-estimator sk-toggleable\"><input class=\"sk-toggleable__control sk-hidden--visually\" id=\"sk-estimator-id-4\" type=\"checkbox\" checked><label for=\"sk-estimator-id-4\" class=\"sk-toggleable__label sk-toggleable__label-arrow\">XGBRegressor</label><div class=\"sk-toggleable__content\"><pre>XGBRegressor(base_score=0.5, booster=&#x27;gbtree&#x27;, colsample_bylevel=1,\n",
       "             colsample_bynode=1, colsample_bytree=1, enable_categorical=False,\n",
       "             gamma=0, gpu_id=-1, importance_type=None,\n",
       "             interaction_constraints=&#x27;&#x27;, learning_rate=0.300000012,\n",
       "             max_delta_step=0, max_depth=6, min_child_weight=1, missing=nan,\n",
       "             monotone_constraints=&#x27;()&#x27;, n_estimators=100, n_jobs=8,\n",
       "             num_parallel_tree=1, predictor=&#x27;auto&#x27;, random_state=0, reg_alpha=0,\n",
       "             reg_lambda=1, scale_pos_weight=1, subsample=1, tree_method=&#x27;exact&#x27;,\n",
       "             validate_parameters=1, verbosity=None)</pre></div></div></div></div></div>"
      ],
      "text/plain": [
       "XGBRegressor(base_score=0.5, booster='gbtree', colsample_bylevel=1,\n",
       "             colsample_bynode=1, colsample_bytree=1, enable_categorical=False,\n",
       "             gamma=0, gpu_id=-1, importance_type=None,\n",
       "             interaction_constraints='', learning_rate=0.300000012,\n",
       "             max_delta_step=0, max_depth=6, min_child_weight=1, missing=nan,\n",
       "             monotone_constraints='()', n_estimators=100, n_jobs=8,\n",
       "             num_parallel_tree=1, predictor='auto', random_state=0, reg_alpha=0,\n",
       "             reg_lambda=1, scale_pos_weight=1, subsample=1, tree_method='exact',\n",
       "             validate_parameters=1, verbosity=None)"
      ]
     },
     "execution_count": 64,
     "metadata": {},
     "output_type": "execute_result"
    }
   ],
   "source": [
    "import xgboost as xgb\n",
    "model_xgb = xgb.XGBRegressor()\n",
    "model_xgb.fit(x_train, y_train)"
   ]
  },
  {
   "cell_type": "code",
   "execution_count": 51,
   "id": "4c446ff6-eb47-4868-b541-d41ae02a9679",
   "metadata": {},
   "outputs": [],
   "source": [
    "# Saving the model\n",
    "model_xgb._Booster.dump_model(\"xgb_all.txt\")\n",
    "model_xgb.save_model(\"xgb_all.json\")"
   ]
  },
  {
   "cell_type": "code",
   "execution_count": 52,
   "id": "716d0cfe-ae4d-4cc0-b379-84f28d415a3e",
   "metadata": {},
   "outputs": [],
   "source": [
    "xgb_prediction = model_xgb.predict(x_test)"
   ]
  },
  {
   "cell_type": "code",
   "execution_count": 53,
   "id": "0bda4769-9956-4143-a789-232dbb080897",
   "metadata": {},
   "outputs": [
    {
     "data": {
      "text/plain": [
       "array([ 0.32983643, -0.11342274,  0.10233247, ...,  0.51612234,\n",
       "        0.51612234,  0.6748582 ], dtype=float32)"
      ]
     },
     "execution_count": 53,
     "metadata": {},
     "output_type": "execute_result"
    }
   ],
   "source": [
    "xgb_prediction"
   ]
  },
  {
   "cell_type": "code",
   "execution_count": 54,
   "id": "2ffc9fe5-2bb1-4b4a-9fc6-46b1dc3b70c8",
   "metadata": {},
   "outputs": [
    {
     "name": "stdout",
     "output_type": "stream",
     "text": [
      "6.31 s ± 172 ms per loop (mean ± std. dev. of 3 runs, 2 loops each)\n"
     ]
    }
   ],
   "source": [
    "%%timeit -n 2 -r 3\n",
    "\n",
    "model_xgb.predict(x)"
   ]
  },
  {
   "cell_type": "markdown",
   "id": "329dff98-02f5-49e0-bcc9-9e9e5ad6a55d",
   "metadata": {},
   "source": [
    "## lleaves model"
   ]
  },
  {
   "cell_type": "code",
   "execution_count": 55,
   "id": "9f092aae-0fac-40b1-8bd9-2a0bda0ac28a",
   "metadata": {},
   "outputs": [],
   "source": [
    "import lleaves"
   ]
  },
  {
   "cell_type": "code",
   "execution_count": 56,
   "id": "818478cc-94eb-46f3-9339-2af60a90d00b",
   "metadata": {},
   "outputs": [],
   "source": [
    "model = lleaves.Model(\"xgb_all.txt\", features)"
   ]
  },
  {
   "cell_type": "code",
   "execution_count": 57,
   "id": "e8dcbb47-7f35-47b3-82e7-3614c03c61e8",
   "metadata": {},
   "outputs": [],
   "source": [
    "model.compile()"
   ]
  },
  {
   "cell_type": "code",
   "execution_count": 58,
   "id": "57025f22-833d-44a3-b37c-f421a4f857ff",
   "metadata": {},
   "outputs": [],
   "source": [
    "our_predictions = model.predict(x_test)"
   ]
  },
  {
   "cell_type": "code",
   "execution_count": 59,
   "id": "2bf93391-fa34-4cb4-834d-14876a7f6d94",
   "metadata": {},
   "outputs": [
    {
     "data": {
      "text/plain": [
       "array([ 0.32983644, -0.11342271,  0.10233268, ...,  0.51612258,\n",
       "        0.51612258,  0.67485825])"
      ]
     },
     "execution_count": 59,
     "metadata": {},
     "output_type": "execute_result"
    }
   ],
   "source": [
    "our_predictions + 0.5"
   ]
  },
  {
   "cell_type": "code",
   "execution_count": 62,
   "id": "7fe5c734-2913-409c-8869-d5d881609bbb",
   "metadata": {},
   "outputs": [
    {
     "name": "stdout",
     "output_type": "stream",
     "text": [
      "2.41 s ± 93 ms per loop (mean ± std. dev. of 3 runs, 2 loops each)\n"
     ]
    }
   ],
   "source": [
    "%%timeit -n 2 -r 3\n",
    "\n",
    "model.predict(x, n_jobs=16)"
   ]
  },
  {
   "cell_type": "markdown",
   "id": "f9fa3f4a-725a-4e8e-95ad-45336b6198a0",
   "metadata": {},
   "source": [
    "## Treelite"
   ]
  },
  {
   "cell_type": "code",
   "execution_count": 68,
   "id": "cd00e6c7-3132-4409-b8c6-e034db321195",
   "metadata": {},
   "outputs": [
    {
     "name": "stdout",
     "output_type": "stream",
     "text": [
      "Requirement already satisfied: treelite in /home/aswin/anaconda3/envs/xg_lleaves/lib/python3.10/site-packages (2.4.0)\n",
      "Collecting treelite_runtime\n",
      "  Downloading treelite_runtime-2.4.0-py3-none-manylinux2014_x86_64.whl (191 kB)\n",
      "\u001b[2K     \u001b[38;2;114;156;31m━━━━━━━━━━━━━━━━━━━━━━━━━━━━━━━━━━━━━━━\u001b[0m \u001b[32m191.5/191.5 kB\u001b[0m \u001b[31m1.0 MB/s\u001b[0m eta \u001b[36m0:00:00\u001b[0m MB/s\u001b[0m eta \u001b[36m0:00:01\u001b[0m:01\u001b[0m\n",
      "\u001b[?25hRequirement already satisfied: numpy in /home/aswin/anaconda3/envs/xg_lleaves/lib/python3.10/site-packages (from treelite) (1.22.4)\n",
      "Requirement already satisfied: scipy in /home/aswin/anaconda3/envs/xg_lleaves/lib/python3.10/site-packages (from treelite) (1.7.3)\n",
      "Installing collected packages: treelite_runtime\n",
      "Successfully installed treelite_runtime-2.4.0\n"
     ]
    }
   ],
   "source": [
    "# !pip install --user treelite treelite_runtime"
   ]
  },
  {
   "cell_type": "code",
   "execution_count": 69,
   "id": "2a3a4449-d9f8-4dfc-8ebe-1e63882d75e8",
   "metadata": {},
   "outputs": [],
   "source": [
    "import treelite\n",
    "import treelite_runtime"
   ]
  },
  {
   "cell_type": "code",
   "execution_count": 71,
   "id": "8f534afb-2a71-4705-95a8-c5c747bff43f",
   "metadata": {},
   "outputs": [],
   "source": [
    "modeltreelite = treelite.Model.from_xgboost(model_xgb.get_booster())"
   ]
  },
  {
   "cell_type": "code",
   "execution_count": 73,
   "id": "8c5038cd-21ba-48d9-8272-3657ba07ffc8",
   "metadata": {},
   "outputs": [
    {
     "name": "stdout",
     "output_type": "stream",
     "text": [
      "[18:29:25] ../src/compiler/ast_native.cc:711: Using ASTNativeCompiler\n",
      "[18:29:25] ../src/compiler/ast/split.cc:24: Parallel compilation disabled; all member trees will be dumped to a single source file. This may increase compilation time and memory usage.\n",
      "[18:29:25] ../src/c_api/c_api.cc:92: Code generation finished. Writing code to files...\n",
      "[18:29:25] ../src/c_api/c_api.cc:97: Writing file recipe.json...\n",
      "[18:29:25] ../src/c_api/c_api.cc:97: Writing file header.h...\n",
      "[18:29:25] ../src/c_api/c_api.cc:97: Writing file main.c...\n"
     ]
    }
   ],
   "source": [
    "modeltreelite.export_srcpkg(platform='unix', toolchain='gcc',\n",
    "                    pkgpath='./mymodel.zip', libname='mymodel.so',\n",
    "                    verbose=True)"
   ]
  },
  {
   "cell_type": "code",
   "execution_count": 75,
   "id": "6382071f-d4d8-42dd-a90b-36344ebcda65",
   "metadata": {},
   "outputs": [
    {
     "name": "stdout",
     "output_type": "stream",
     "text": [
      "[18:29:50] ../src/compiler/ast/split.cc:24: Parallel compilation disabled; all member trees will be dumped to a single source file. This may increase compilation time and memory usage.\n",
      "[18:29:50] /home/aswin/anaconda3/envs/xg_lleaves/lib/python3.10/site-packages/treelite/contrib/__init__.py:267: \u001b[1;31mWARNING: some of the source files are long. Expect long build time.\u001b[0m You may want to adjust the parameter \u001b[33mparallel_comp\u001b[0m.\n",
      "\n",
      "[18:29:50] /home/aswin/anaconda3/envs/xg_lleaves/lib/python3.10/site-packages/treelite/contrib/util.py:105: Compiling sources files in directory ./tmpixcujthp into object files (*.o)...\n",
      "[18:30:22] /home/aswin/anaconda3/envs/xg_lleaves/lib/python3.10/site-packages/treelite/contrib/util.py:135: Generating dynamic shared library ./tmpixcujthp/predictor.so...\n",
      "[18:30:22] /home/aswin/anaconda3/envs/xg_lleaves/lib/python3.10/site-packages/treelite/contrib/__init__.py:282: Generated shared library in 31.55 seconds\n"
     ]
    }
   ],
   "source": [
    "modeltreelite.export_lib(toolchain='gcc', libpath='./mymodel.so', verbose=True)"
   ]
  },
  {
   "cell_type": "code",
   "execution_count": 76,
   "id": "5f157048-1a97-4ff2-88bb-9773c1d4a4ef",
   "metadata": {},
   "outputs": [
    {
     "name": "stdout",
     "output_type": "stream",
     "text": [
      "[18:30:22] /home/aswin/.local/lib/python3.10/site-packages/treelite_runtime/predictor.py:159: Dynamic shared library /home/aswin/XG/lleaves/mymodel.so has been successfully loaded into memory\n"
     ]
    }
   ],
   "source": [
    "predictor = treelite_runtime.Predictor('./mymodel.so', verbose=True)"
   ]
  },
  {
   "cell_type": "code",
   "execution_count": 77,
   "id": "03a3dc57-b1d9-43b2-b52d-7cffe7cf8a98",
   "metadata": {},
   "outputs": [],
   "source": [
    "dmat = treelite_runtime.DMatrix(x)"
   ]
  },
  {
   "cell_type": "code",
   "execution_count": 79,
   "id": "1aef42af-b281-4172-a1b5-af50f5fb1323",
   "metadata": {},
   "outputs": [
    {
     "data": {
      "text/plain": [
       "<6000000x8 sparse matrix of type treelite.DMatrix\n",
       "        with 47934415 stored elements in Compressed Sparse Row format>"
      ]
     },
     "execution_count": 79,
     "metadata": {},
     "output_type": "execute_result"
    }
   ],
   "source": [
    "dmat"
   ]
  },
  {
   "cell_type": "code",
   "execution_count": 81,
   "id": "58aa893d-c33f-4422-877a-13460bf17506",
   "metadata": {},
   "outputs": [
    {
     "name": "stdout",
     "output_type": "stream",
     "text": [
      "5.22 s ± 212 ms per loop (mean ± std. dev. of 3 runs, 2 loops each)\n"
     ]
    }
   ],
   "source": [
    "%%timeit -n 2 -r 3\n",
    "out_pred = predictor.predict(dmat)"
   ]
  },
  {
   "cell_type": "code",
   "execution_count": 82,
   "id": "deb60bd8-a903-44ae-8234-22fc4b229b54",
   "metadata": {},
   "outputs": [
    {
     "data": {
      "text/plain": [
       "array([ 0.06940851, -0.07552671,  0.19355473, ...,  0.5161225 ,\n",
       "        0.5161225 ,  0.6748583 ], dtype=float32)"
      ]
     },
     "execution_count": 82,
     "metadata": {},
     "output_type": "execute_result"
    }
   ],
   "source": [
    "out_pred"
   ]
  },
  {
   "cell_type": "code",
   "execution_count": 84,
   "id": "1518b6f3-d480-47df-b76b-8c449f911385",
   "metadata": {},
   "outputs": [
    {
     "data": {
      "text/plain": [
       "array([ 0.06940852, -0.07552679,  0.1935547 , ...,  0.51612258,\n",
       "        0.51612258,  0.67485825])"
      ]
     },
     "execution_count": 84,
     "metadata": {},
     "output_type": "execute_result"
    }
   ],
   "source": [
    "model.predict(x, n_jobs=16) + 0.5"
   ]
  },
  {
   "cell_type": "code",
   "execution_count": null,
   "id": "2e6f1e4e-b767-4a5f-90b3-5e93fbc37e11",
   "metadata": {},
   "outputs": [],
   "source": []
  }
 ],
 "metadata": {
  "kernelspec": {
   "display_name": "Python 3 (ipykernel)",
   "language": "python",
   "name": "python3"
  },
  "language_info": {
   "codemirror_mode": {
    "name": "ipython",
    "version": 3
   },
   "file_extension": ".py",
   "mimetype": "text/x-python",
   "name": "python",
   "nbconvert_exporter": "python",
   "pygments_lexer": "ipython3",
   "version": "3.10.4"
  }
 },
 "nbformat": 4,
 "nbformat_minor": 5
}
