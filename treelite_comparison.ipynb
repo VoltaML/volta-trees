{
 "cells": [
  {
   "cell_type": "code",
   "execution_count": 1,
   "id": "89b6be04-1921-499c-95e4-ee0b0b83ab8b",
   "metadata": {},
   "outputs": [],
   "source": [
    "import pandas as pd"
   ]
  },
  {
   "cell_type": "code",
   "execution_count": 2,
   "id": "6fce8537-0571-4685-9a13-fc1929da2d6f",
   "metadata": {},
   "outputs": [],
   "source": [
    "file_path = \"test/Data/AAPL.csv\"\n",
    "data = pd.read_csv(file_path, index_col=0)"
   ]
  },
  {
   "cell_type": "code",
   "execution_count": 3,
   "id": "79ccddfc-eacd-4f05-8936-30ffdb32f1bb",
   "metadata": {},
   "outputs": [],
   "source": [
    "x = data.iloc[:,0:6]\n",
    "y = data.iloc[:,7]\n",
    "\n",
    "# feature names should not have empty spaces in them\n",
    "features = ['Adj_Close', 'Close', 'High', 'Low', 'Open', 'Volume']\n",
    "\n",
    "x.columns = features"
   ]
  },
  {
   "cell_type": "code",
   "execution_count": 4,
   "id": "c5d2dc72-8e8c-47bd-887d-f39b618a2fff",
   "metadata": {},
   "outputs": [],
   "source": [
    "x_train,x_test = x.iloc[:5000,:], x.iloc[5000:,:]\n",
    "y_train,y_test = y[:5000],y[5000:]"
   ]
  },
  {
   "cell_type": "markdown",
   "id": "e0b7cfa4-f6de-43cb-8e7d-3c333da8458b",
   "metadata": {},
   "source": [
    "## XGB"
   ]
  },
  {
   "cell_type": "code",
   "execution_count": 5,
   "id": "2cf09758-1149-4f7f-96bf-85354c1d8f57",
   "metadata": {},
   "outputs": [],
   "source": [
    "import xgboost as xgb"
   ]
  },
  {
   "cell_type": "code",
   "execution_count": 6,
   "id": "605edbf0-ebb7-4704-8c98-8c275c311004",
   "metadata": {},
   "outputs": [],
   "source": [
    "model_xgb = xgb.XGBRegressor()\n",
    "bst=model_xgb.fit(x_train, y_train)\n",
    "\n",
    "# dumping the model detils to a file\n",
    "model_xgb._Booster.dump_model(\"./test/Models/xgb_model.txt\")"
   ]
  },
  {
   "cell_type": "markdown",
   "id": "ebaa87ea-641c-4681-afdf-2cab7351b096",
   "metadata": {},
   "source": [
    "## Volta XGB"
   ]
  },
  {
   "cell_type": "code",
   "execution_count": 7,
   "id": "c2668bd9-faa0-43b9-afa1-83110cbbb780",
   "metadata": {},
   "outputs": [],
   "source": [
    "import voltatrees.volta_XGBM as vxgb"
   ]
  },
  {
   "cell_type": "code",
   "execution_count": 8,
   "id": "d2e65ac8-826f-4e0b-ac0a-3170435a2ed6",
   "metadata": {},
   "outputs": [],
   "source": [
    "model = vxgb.Model(\"./test/Models/xgb_model.txt\", features)"
   ]
  },
  {
   "cell_type": "code",
   "execution_count": 9,
   "id": "3cf5b5c3-8a93-449e-8a66-3f5b1caebee0",
   "metadata": {},
   "outputs": [],
   "source": [
    "model.compile()"
   ]
  },
  {
   "cell_type": "code",
   "execution_count": 10,
   "id": "749ac531-593e-4a4a-8c69-b390c274863c",
   "metadata": {},
   "outputs": [],
   "source": [
    "our_predictions = model.predict(x_test)"
   ]
  },
  {
   "cell_type": "code",
   "execution_count": 11,
   "id": "e341777c-3110-4e57-9de9-c9235c118fa5",
   "metadata": {},
   "outputs": [
    {
     "data": {
      "text/plain": [
       "array([ 0.03996586, -0.28144285,  0.49001607, ...,  0.7893066 ,\n",
       "        0.71400942,  0.75283789])"
      ]
     },
     "execution_count": 11,
     "metadata": {},
     "output_type": "execute_result"
    }
   ],
   "source": [
    "our_predictions"
   ]
  },
  {
   "cell_type": "code",
   "execution_count": 12,
   "id": "98b0c156-33ac-4cdc-b1f4-e5a4be84c7d8",
   "metadata": {},
   "outputs": [
    {
     "name": "stdout",
     "output_type": "stream",
     "text": [
      "7.32 ms ± 1.15 ms per loop (mean ± std. dev. of 3 runs, 2 loops each)\n"
     ]
    }
   ],
   "source": [
    "%%timeit -n 2 -r 3\n",
    "\n",
    "model.predict(x, n_jobs=3)"
   ]
  },
  {
   "cell_type": "markdown",
   "id": "d88aedcf-7c8e-415f-8ee8-432186c119cb",
   "metadata": {},
   "source": [
    "## Treelite"
   ]
  },
  {
   "cell_type": "code",
   "execution_count": 13,
   "id": "37032ccb-ac9f-4c4b-be74-0333e3322ad3",
   "metadata": {},
   "outputs": [],
   "source": [
    "import treelite"
   ]
  },
  {
   "cell_type": "code",
   "execution_count": 14,
   "id": "add9cfc7-2c24-4b3a-a499-32796ec30a95",
   "metadata": {},
   "outputs": [],
   "source": [
    "model = treelite.Model.from_xgboost(model_xgb._Booster)"
   ]
  },
  {
   "cell_type": "code",
   "execution_count": 15,
   "id": "e2df7540-8d7d-4ca5-9c8f-5dab1ef71f64",
   "metadata": {},
   "outputs": [
    {
     "name": "stdout",
     "output_type": "stream",
     "text": [
      "[14:45:58] ../src/compiler/ast/split.cc:24: Parallel compilation disabled; all member trees will be dumped to a single source file. This may increase compilation time and memory usage.\n",
      "[14:45:58] /home/aswin/anaconda3/envs/ml/lib/python3.9/site-packages/treelite/contrib/__init__.py:267: \u001b[1;31mWARNING: some of the source files are long. Expect long build time.\u001b[0m You may want to adjust the parameter \u001b[33mparallel_comp\u001b[0m.\n",
      "\n",
      "[14:45:58] /home/aswin/anaconda3/envs/ml/lib/python3.9/site-packages/treelite/contrib/util.py:105: Compiling sources files in directory ./tmpgrjl71rp into object files (*.o)...\n",
      "[14:46:28] /home/aswin/anaconda3/envs/ml/lib/python3.9/site-packages/treelite/contrib/util.py:135: Generating dynamic shared library ./tmpgrjl71rp/predictor.so...\n",
      "[14:46:28] /home/aswin/anaconda3/envs/ml/lib/python3.9/site-packages/treelite/contrib/__init__.py:282: Generated shared library in 30.20 seconds\n"
     ]
    }
   ],
   "source": [
    "model.export_lib(toolchain=\"gcc\", libpath='./mymodel.so', verbose=True)"
   ]
  },
  {
   "cell_type": "code",
   "execution_count": 16,
   "id": "13286e71-1628-4916-ac23-0ab6d14317f2",
   "metadata": {},
   "outputs": [
    {
     "name": "stdout",
     "output_type": "stream",
     "text": [
      "[14:46:28] /home/aswin/.local/lib/python3.9/site-packages/treelite_runtime/predictor.py:159: Dynamic shared library /home/aswin/volta-trees/mymodel.so has been successfully loaded into memory\n"
     ]
    }
   ],
   "source": [
    "import treelite_runtime     # runtime module\n",
    "predictor = treelite_runtime.Predictor('./mymodel.so', verbose=True)"
   ]
  },
  {
   "cell_type": "code",
   "execution_count": 17,
   "id": "067230a2-7b67-4114-9078-6ae8055760f6",
   "metadata": {},
   "outputs": [],
   "source": [
    "dmat = treelite_runtime.DMatrix(x_test)"
   ]
  },
  {
   "cell_type": "code",
   "execution_count": 18,
   "id": "a4652559-dd96-430a-8239-fcf5b387fb0e",
   "metadata": {},
   "outputs": [],
   "source": [
    "out_pred = predictor.predict(dmat)"
   ]
  },
  {
   "cell_type": "code",
   "execution_count": 19,
   "id": "9cca08a4-3e94-4940-8ff6-7b730ae169c5",
   "metadata": {},
   "outputs": [
    {
     "data": {
      "text/plain": [
       "array([ 0.03996587, -0.28144288,  0.4900161 , ...,  0.7893065 ,\n",
       "        0.7140093 ,  0.7528378 ], dtype=float32)"
      ]
     },
     "execution_count": 19,
     "metadata": {},
     "output_type": "execute_result"
    }
   ],
   "source": [
    "out_pred"
   ]
  },
  {
   "cell_type": "code",
   "execution_count": 20,
   "id": "90a350ab-6657-4cec-be99-7d5fb960fe00",
   "metadata": {},
   "outputs": [],
   "source": [
    "dmat2 = treelite_runtime.DMatrix(x)"
   ]
  },
  {
   "cell_type": "code",
   "execution_count": 21,
   "id": "7067f45a-0db0-4b06-bc4a-45519781343b",
   "metadata": {},
   "outputs": [
    {
     "name": "stdout",
     "output_type": "stream",
     "text": [
      "14.3 ms ± 3.61 ms per loop (mean ± std. dev. of 3 runs, 2 loops each)\n"
     ]
    }
   ],
   "source": [
    "%%timeit -n 2 -r 3\n",
    "\n",
    "predictor.predict(dmat2)"
   ]
  },
  {
   "cell_type": "code",
   "execution_count": null,
   "id": "4087bf4e-4932-4294-962e-726de4387a7d",
   "metadata": {},
   "outputs": [],
   "source": []
  }
 ],
 "metadata": {
  "kernelspec": {
   "display_name": "Python 3 (ipykernel)",
   "language": "python",
   "name": "python3"
  },
  "language_info": {
   "codemirror_mode": {
    "name": "ipython",
    "version": 3
   },
   "file_extension": ".py",
   "mimetype": "text/x-python",
   "name": "python",
   "nbconvert_exporter": "python",
   "pygments_lexer": "ipython3",
   "version": "3.9.12"
  }
 },
 "nbformat": 4,
 "nbformat_minor": 5
}
